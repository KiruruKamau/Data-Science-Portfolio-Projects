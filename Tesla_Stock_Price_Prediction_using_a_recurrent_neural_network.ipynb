{
  "cells": [
    {
      "cell_type": "markdown",
      "metadata": {
        "colab_type": "text",
        "id": "view-in-github"
      },
      "source": [
        "<a href=\"https://colab.research.google.com/github/KiruruKamau/Data-Science-Portfolio-Projects/blob/main/Tesla_Stock_Price_Prediction_using_a_recurrent_neural_network.ipynb\" target=\"_parent\"><img src=\"https://colab.research.google.com/assets/colab-badge.svg\" alt=\"Open In Colab\"/></a>"
      ]
    },
    {
      "cell_type": "code",
      "execution_count": 1,
      "metadata": {
        "id": "yiOoS6awrATy"
      },
      "outputs": [
        {
          "name": "stdout",
          "output_type": "stream",
          "text": [
            "WARNING:tensorflow:From C:\\Users\\nyanc\\AppData\\Local\\Packages\\PythonSoftwareFoundation.Python.3.11_qbz5n2kfra8p0\\LocalCache\\local-packages\\Python311\\site-packages\\keras\\src\\losses.py:2976: The name tf.losses.sparse_softmax_cross_entropy is deprecated. Please use tf.compat.v1.losses.sparse_softmax_cross_entropy instead.\n",
            "\n"
          ]
        }
      ],
      "source": [
        "import numpy as np\n",
        "import matplotlib.pyplot as plt\n",
        "import pandas as pd\n",
        "import pandas_datareader as web\n",
        "from datetime import datetime as dt\n",
        "import yfinance as yf\n",
        "import tensorflow as tf\n",
        "\n",
        "from sklearn.preprocessing import MinMaxScaler\n",
        "from tensorflow.keras.models import Sequential\n",
        "from tensorflow.keras.layers import Dense, Dropout, LSTM"
      ]
    },
    {
      "cell_type": "code",
      "execution_count": 2,
      "metadata": {
        "id": "Lo-6qV_kr-zH"
      },
      "outputs": [],
      "source": [
        "symbol = \"TSLA\""
      ]
    },
    {
      "cell_type": "code",
      "execution_count": 3,
      "metadata": {
        "id": "zr_oBWgpsRHh"
      },
      "outputs": [],
      "source": [
        "# initialize parameters\n",
        "start_date = dt(2012, 1, 1)\n",
        "end_date = dt(2020, 1, 1)"
      ]
    },
    {
      "cell_type": "code",
      "execution_count": 4,
      "metadata": {
        "colab": {
          "base_uri": "https://localhost:8080/"
        },
        "id": "2JTw7Lv6swr0",
        "outputId": "5059da47-ed16-4e22-ad55-b8cb37105978"
      },
      "outputs": [
        {
          "name": "stdout",
          "output_type": "stream",
          "text": [
            "[*********************100%%**********************]  1 of 1 completed\n"
          ]
        }
      ],
      "source": [
        "#Get the data\n",
        "data = yf.download(symbol, start=start_date, end= end_date)"
      ]
    },
    {
      "cell_type": "code",
      "execution_count": 5,
      "metadata": {
        "colab": {
          "base_uri": "https://localhost:8080/",
          "height": 238
        },
        "id": "VqNNo76rtMjO",
        "outputId": "2d82f00a-128c-48f8-96ee-bda686f739f8"
      },
      "outputs": [
        {
          "data": {
            "text/html": [
              "<div>\n",
              "<style scoped>\n",
              "    .dataframe tbody tr th:only-of-type {\n",
              "        vertical-align: middle;\n",
              "    }\n",
              "\n",
              "    .dataframe tbody tr th {\n",
              "        vertical-align: top;\n",
              "    }\n",
              "\n",
              "    .dataframe thead th {\n",
              "        text-align: right;\n",
              "    }\n",
              "</style>\n",
              "<table border=\"1\" class=\"dataframe\">\n",
              "  <thead>\n",
              "    <tr style=\"text-align: right;\">\n",
              "      <th></th>\n",
              "      <th>Open</th>\n",
              "      <th>High</th>\n",
              "      <th>Low</th>\n",
              "      <th>Close</th>\n",
              "      <th>Adj Close</th>\n",
              "      <th>Volume</th>\n",
              "    </tr>\n",
              "    <tr>\n",
              "      <th>Date</th>\n",
              "      <th></th>\n",
              "      <th></th>\n",
              "      <th></th>\n",
              "      <th></th>\n",
              "      <th></th>\n",
              "      <th></th>\n",
              "    </tr>\n",
              "  </thead>\n",
              "  <tbody>\n",
              "    <tr>\n",
              "      <th>2012-01-03</th>\n",
              "      <td>1.929333</td>\n",
              "      <td>1.966667</td>\n",
              "      <td>1.843333</td>\n",
              "      <td>1.872000</td>\n",
              "      <td>1.872000</td>\n",
              "      <td>13921500</td>\n",
              "    </tr>\n",
              "    <tr>\n",
              "      <th>2012-01-04</th>\n",
              "      <td>1.880667</td>\n",
              "      <td>1.911333</td>\n",
              "      <td>1.833333</td>\n",
              "      <td>1.847333</td>\n",
              "      <td>1.847333</td>\n",
              "      <td>9451500</td>\n",
              "    </tr>\n",
              "    <tr>\n",
              "      <th>2012-01-05</th>\n",
              "      <td>1.850667</td>\n",
              "      <td>1.862000</td>\n",
              "      <td>1.790000</td>\n",
              "      <td>1.808000</td>\n",
              "      <td>1.808000</td>\n",
              "      <td>15082500</td>\n",
              "    </tr>\n",
              "    <tr>\n",
              "      <th>2012-01-06</th>\n",
              "      <td>1.813333</td>\n",
              "      <td>1.852667</td>\n",
              "      <td>1.760667</td>\n",
              "      <td>1.794000</td>\n",
              "      <td>1.794000</td>\n",
              "      <td>14794500</td>\n",
              "    </tr>\n",
              "    <tr>\n",
              "      <th>2012-01-09</th>\n",
              "      <td>1.800000</td>\n",
              "      <td>1.832667</td>\n",
              "      <td>1.741333</td>\n",
              "      <td>1.816667</td>\n",
              "      <td>1.816667</td>\n",
              "      <td>13455000</td>\n",
              "    </tr>\n",
              "  </tbody>\n",
              "</table>\n",
              "</div>"
            ],
            "text/plain": [
              "                Open      High       Low     Close  Adj Close    Volume\n",
              "Date                                                                   \n",
              "2012-01-03  1.929333  1.966667  1.843333  1.872000   1.872000  13921500\n",
              "2012-01-04  1.880667  1.911333  1.833333  1.847333   1.847333   9451500\n",
              "2012-01-05  1.850667  1.862000  1.790000  1.808000   1.808000  15082500\n",
              "2012-01-06  1.813333  1.852667  1.760667  1.794000   1.794000  14794500\n",
              "2012-01-09  1.800000  1.832667  1.741333  1.816667   1.816667  13455000"
            ]
          },
          "execution_count": 5,
          "metadata": {},
          "output_type": "execute_result"
        }
      ],
      "source": [
        "data.head()"
      ]
    },
    {
      "cell_type": "code",
      "execution_count": 6,
      "metadata": {
        "id": "EPI0vwIQwDot"
      },
      "outputs": [],
      "source": [
        "#Prepare data\n",
        "scaler = MinMaxScaler(feature_range=(0,1))\n",
        "scaled_data = scaler.fit_transform(data['Close'].values.reshape(-1,1))"
      ]
    },
    {
      "cell_type": "code",
      "execution_count": 7,
      "metadata": {
        "id": "DFnp9RDwmJ4o"
      },
      "outputs": [],
      "source": [
        "prediction_days = 60"
      ]
    },
    {
      "cell_type": "code",
      "execution_count": 8,
      "metadata": {
        "id": "qWAxmyIgm9Ks"
      },
      "outputs": [],
      "source": [
        "X_train = []\n",
        "y_train = []"
      ]
    },
    {
      "cell_type": "code",
      "execution_count": 9,
      "metadata": {
        "id": "yXKJCXvZnMqg"
      },
      "outputs": [],
      "source": [
        "for x in range(prediction_days, len(scaled_data)):\n",
        "  X_train.append(scaled_data[x-prediction_days:x, 0 ])\n",
        "  y_train.append(scaled_data[x, 0])"
      ]
    },
    {
      "cell_type": "code",
      "execution_count": 10,
      "metadata": {
        "id": "xmnv63ELn3fV"
      },
      "outputs": [],
      "source": [
        "X_train, y_train = np.array(X_train), np.array(y_train)"
      ]
    },
    {
      "cell_type": "code",
      "execution_count": 11,
      "metadata": {
        "id": "9ls47W-EoHYz"
      },
      "outputs": [],
      "source": [
        "X_train = np.reshape(X_train, (X_train.shape[0], X_train.shape[1], 1))"
      ]
    },
    {
      "cell_type": "code",
      "execution_count": 12,
      "metadata": {
        "id": "U7TdM1CYp_z4"
      },
      "outputs": [
        {
          "name": "stdout",
          "output_type": "stream",
          "text": [
            "WARNING:tensorflow:From C:\\Users\\nyanc\\AppData\\Local\\Packages\\PythonSoftwareFoundation.Python.3.11_qbz5n2kfra8p0\\LocalCache\\local-packages\\Python311\\site-packages\\keras\\src\\backend.py:873: The name tf.get_default_graph is deprecated. Please use tf.compat.v1.get_default_graph instead.\n",
            "\n"
          ]
        }
      ],
      "source": [
        "model = Sequential()\n",
        "model.add(LSTM(units=50, return_sequences=True, input_shape=(X_train.shape[1], 1)))\n",
        "model.add(Dropout(0.2))\n",
        "model.add(LSTM(units=50, return_sequences=True))\n",
        "model.add(Dropout(0.2))\n",
        "model.add(LSTM(units=50))\n",
        "model.add(Dropout(0.2))\n",
        "model.add(Dense(units=1))#Prediction of the next price"
      ]
    },
    {
      "cell_type": "code",
      "execution_count": 13,
      "metadata": {
        "colab": {
          "base_uri": "https://localhost:8080/"
        },
        "id": "kspvyD1crGUH",
        "outputId": "3941b8c6-1c51-4dc7-8a17-3661194f6f29"
      },
      "outputs": [
        {
          "name": "stdout",
          "output_type": "stream",
          "text": [
            "WARNING:tensorflow:From C:\\Users\\nyanc\\AppData\\Local\\Packages\\PythonSoftwareFoundation.Python.3.11_qbz5n2kfra8p0\\LocalCache\\local-packages\\Python311\\site-packages\\keras\\src\\optimizers\\__init__.py:309: The name tf.train.Optimizer is deprecated. Please use tf.compat.v1.train.Optimizer instead.\n",
            "\n",
            "Epoch 1/25\n",
            "WARNING:tensorflow:From C:\\Users\\nyanc\\AppData\\Local\\Packages\\PythonSoftwareFoundation.Python.3.11_qbz5n2kfra8p0\\LocalCache\\local-packages\\Python311\\site-packages\\keras\\src\\utils\\tf_utils.py:492: The name tf.ragged.RaggedTensorValue is deprecated. Please use tf.compat.v1.ragged.RaggedTensorValue instead.\n",
            "\n",
            "61/61 [==============================] - 19s 70ms/step - loss: 0.0323\n",
            "Epoch 2/25\n",
            "61/61 [==============================] - 4s 68ms/step - loss: 0.0055\n",
            "Epoch 3/25\n",
            "61/61 [==============================] - 4s 69ms/step - loss: 0.0048\n",
            "Epoch 4/25\n",
            "61/61 [==============================] - 4s 69ms/step - loss: 0.0045\n",
            "Epoch 5/25\n",
            "61/61 [==============================] - 4s 70ms/step - loss: 0.0041\n",
            "Epoch 6/25\n",
            "61/61 [==============================] - 4s 69ms/step - loss: 0.0041\n",
            "Epoch 7/25\n",
            "61/61 [==============================] - 4s 70ms/step - loss: 0.0039\n",
            "Epoch 8/25\n",
            "61/61 [==============================] - 4s 73ms/step - loss: 0.0039\n",
            "Epoch 9/25\n",
            "61/61 [==============================] - 4s 70ms/step - loss: 0.0040\n",
            "Epoch 10/25\n",
            "61/61 [==============================] - 4s 69ms/step - loss: 0.0032\n",
            "Epoch 11/25\n",
            "61/61 [==============================] - 5s 76ms/step - loss: 0.0032\n",
            "Epoch 12/25\n",
            "61/61 [==============================] - 5s 82ms/step - loss: 0.0031\n",
            "Epoch 13/25\n",
            "61/61 [==============================] - 5s 84ms/step - loss: 0.0035\n",
            "Epoch 14/25\n",
            "61/61 [==============================] - 5s 74ms/step - loss: 0.0031\n",
            "Epoch 15/25\n",
            "61/61 [==============================] - 6s 93ms/step - loss: 0.0029\n",
            "Epoch 16/25\n",
            "61/61 [==============================] - 5s 88ms/step - loss: 0.0029\n",
            "Epoch 17/25\n",
            "61/61 [==============================] - 5s 89ms/step - loss: 0.0029\n",
            "Epoch 18/25\n",
            "61/61 [==============================] - 5s 81ms/step - loss: 0.0029\n",
            "Epoch 19/25\n",
            "61/61 [==============================] - 5s 86ms/step - loss: 0.0025\n",
            "Epoch 20/25\n",
            "61/61 [==============================] - 6s 91ms/step - loss: 0.0024\n",
            "Epoch 21/25\n",
            "61/61 [==============================] - 5s 88ms/step - loss: 0.0025\n",
            "Epoch 22/25\n",
            "61/61 [==============================] - 4s 70ms/step - loss: 0.0024\n",
            "Epoch 23/25\n",
            "61/61 [==============================] - 4s 69ms/step - loss: 0.0025\n",
            "Epoch 24/25\n",
            "61/61 [==============================] - 4s 71ms/step - loss: 0.0023\n",
            "Epoch 25/25\n",
            "61/61 [==============================] - 5s 77ms/step - loss: 0.0024\n"
          ]
        },
        {
          "data": {
            "text/plain": [
              "<keras.src.callbacks.History at 0x1d431ac4690>"
            ]
          },
          "execution_count": 13,
          "metadata": {},
          "output_type": "execute_result"
        }
      ],
      "source": [
        "model.compile(optimizer='adam', loss='mean_squared_error')\n",
        "model.fit(X_train, y_train, epochs=25, batch_size=32)"
      ]
    },
    {
      "cell_type": "code",
      "execution_count": 14,
      "metadata": {
        "id": "CtfIW3Bnrc6J"
      },
      "outputs": [],
      "source": [
        "#Load test data\n",
        "test_start = dt(2020, 1, 1)\n",
        "test_end = dt.now()"
      ]
    },
    {
      "cell_type": "code",
      "execution_count": 15,
      "metadata": {
        "colab": {
          "base_uri": "https://localhost:8080/"
        },
        "id": "rHC18ngAr8T2",
        "outputId": "8a684b0a-e743-4e30-afcb-8effaf950d3e"
      },
      "outputs": [
        {
          "name": "stdout",
          "output_type": "stream",
          "text": [
            "[*********************100%%**********************]  1 of 1 completed\n"
          ]
        }
      ],
      "source": [
        "test_data = yf.download(symbol, start=test_start, end=test_end)"
      ]
    },
    {
      "cell_type": "code",
      "execution_count": 16,
      "metadata": {
        "id": "F8sfhUQHsYPO"
      },
      "outputs": [],
      "source": [
        "actual_prices = test_data['Close'].values\n",
        "total_dataset = pd.concat((data['Close'], test_data['Close']), axis=0)"
      ]
    },
    {
      "cell_type": "code",
      "execution_count": 17,
      "metadata": {
        "id": "oA0JOm3HtX13"
      },
      "outputs": [],
      "source": [
        "model_inputs = total_dataset[len(total_dataset) - len(test_data) - prediction_days:]\n",
        "model_inputs = model_inputs.values.reshape(-1,1)\n",
        "model_inputs = scaler.transform(model_inputs)"
      ]
    },
    {
      "cell_type": "code",
      "execution_count": 18,
      "metadata": {
        "id": "yFtgnEr3tzMD"
      },
      "outputs": [],
      "source": [
        "#Make predictions on test_data\n",
        "X_test = []\n",
        "for x in range(prediction_days, len(model_inputs)):\n",
        "  X_test.append(model_inputs[x-prediction_days:x,0])"
      ]
    },
    {
      "cell_type": "code",
      "execution_count": 19,
      "metadata": {
        "id": "HW-SPPTYuqOW"
      },
      "outputs": [],
      "source": [
        "X_test = np.array(X_test)\n",
        "X_test = np.reshape(X_test, (X_test.shape[0], X_test.shape[1], 1))"
      ]
    },
    {
      "cell_type": "code",
      "execution_count": 20,
      "metadata": {
        "colab": {
          "base_uri": "https://localhost:8080/"
        },
        "id": "RAQMWQkfvD1O",
        "outputId": "23c33139-df10-435c-932d-8b4ebe9af13b"
      },
      "outputs": [
        {
          "name": "stdout",
          "output_type": "stream",
          "text": [
            "32/32 [==============================] - 5s 30ms/step\n"
          ]
        }
      ],
      "source": [
        "predicted_prices = model.predict(X_test)\n",
        "predicted_prices = scaler.inverse_transform(predicted_prices)"
      ]
    },
    {
      "cell_type": "code",
      "execution_count": 21,
      "metadata": {
        "colab": {
          "base_uri": "https://localhost:8080/",
          "height": 472
        },
        "id": "wuKG8ie7vPzI",
        "outputId": "a4832cab-2151-41c7-f349-b3ac1be1a19b"
      },
      "outputs": [
        {
          "data": {
            "image/png": "[encoded data removed]",
            "text/plain": [
              "<Figure size 640x480 with 1 Axes>"
            ]
          },
          "metadata": {},
          "output_type": "display_data"
        }
      ],
      "source": [
        "#Plot the test predictions\n",
        "plt.plot(actual_prices, color=\"black\", label=f\"Actual {symbol} Price\")\n",
        "plt.plot(predicted_prices, color=\"green\", label=f\"Predicted {symbol} Price\")\n",
        "plt.title(f\"{symbol} Share Price\")\n",
        "plt.xlabel('Time')\n",
        "plt.ylabel(f'{symbol} Share Price')\n",
        "plt.legend()\n",
        "plt.show()"
      ]
    },
    {
      "cell_type": "code",
      "execution_count": null,
      "metadata": {
        "id": "yR8Rwu5lwFWc"
      },
      "outputs": [],
      "source": []
    }
  ],
  "metadata": {
    "colab": {
      "authorship_tag": "ABX9TyOPl4F6kRH5sDLVd7W1fPaU",
      "include_colab_link": true,
      "provenance": []
    },
    "kernelspec": {
      "display_name": "Python 3",
      "name": "python3"
    },
    "language_info": {
      "codemirror_mode": {
        "name": "ipython",
        "version": 3
      },
      "file_extension": ".py",
      "mimetype": "text/x-python",
      "name": "python",
      "nbconvert_exporter": "python",
      "pygments_lexer": "ipython3",
      "version": "3.11.6"
    }
  },
  "nbformat": 4,
  "nbformat_minor": 0
}
